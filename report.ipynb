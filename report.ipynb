{
 "cells": [
  {
   "cell_type": "code",
   "execution_count": null,
   "id": "25374f38",
   "metadata": {},
   "outputs": [],
   "source": [
    "from src.io_utils import load_data\n",
    "from src.metrics import calculating_revenue_city, calculate_category_rev, calculate_average_order_value\n",
    "\n",
    "df = load_data(\"data/ecommerce_sales.csv\")\n"
   ]
  },
  {
   "cell_type": "markdown",
   "id": "03adfab6",
   "metadata": {},
   "source": [
    "# Intäkt per stad"
   ]
  },
  {
   "cell_type": "code",
   "execution_count": null,
   "id": "3145c71c",
   "metadata": {},
   "outputs": [],
   "source": [
    "revenue_city = calculating_revenue_city(df)\n",
    "print(revenue_city)"
   ]
  },
  {
   "cell_type": "markdown",
   "id": "d29c2b2e",
   "metadata": {},
   "source": [
    "# Intäkt per kategori"
   ]
  },
  {
   "cell_type": "code",
   "execution_count": null,
   "id": "f4c03550",
   "metadata": {},
   "outputs": [],
   "source": [
    "category_revenue = calculate_category_rev(df)\n",
    "print()\n",
    "print(category_revenue)"
   ]
  },
  {
   "cell_type": "markdown",
   "id": "80eae16c",
   "metadata": {},
   "source": [
    "# Average orden value"
   ]
  },
  {
   "cell_type": "code",
   "execution_count": null,
   "id": "5d1f4b9e",
   "metadata": {},
   "outputs": [],
   "source": [
    "\n",
    "df = load_data(\"data/ecommerce_sales.csv\")\n",
    "average_order_value, _ = calculate_average_order_value(df)\n",
    "print(average_order_value)"
   ]
  }
 ],
 "metadata": {
  "kernelspec": {
   "display_name": "Python 3",
   "language": "python",
   "name": "python3"
  },
  "language_info": {
   "codemirror_mode": {
    "name": "ipython",
    "version": 3
   },
   "file_extension": ".py",
   "mimetype": "text/x-python",
   "name": "python",
   "nbconvert_exporter": "python",
   "pygments_lexer": "ipython3",
   "version": "3.13.7"
  }
 },
 "nbformat": 4,
 "nbformat_minor": 5
}
