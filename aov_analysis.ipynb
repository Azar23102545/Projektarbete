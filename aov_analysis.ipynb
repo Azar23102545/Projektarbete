{
 "cells": [
  {
   "cell_type": "markdown",
   "id": "53108727",
   "metadata": {},
   "source": [
    "## Average Order Value\n",
    "avo = sum(revenue)/order count"
   ]
  }
 ],
 "metadata": {
  "kernelspec": {
   "display_name": "Python 3",
   "language": "python",
   "name": "python3"
  },
  "language_info": {
   "codemirror_mode": {
    "name": "ipython",
    "version": 3
   },
   "file_extension": ".py",
   "mimetype": "text/x-python",
   "name": "python",
   "nbconvert_exporter": "python",
   "pygments_lexer": "ipython3",
   "version": "3.13.7"
  }
 },
 "nbformat": 4,
 "nbformat_minor": 5
}
