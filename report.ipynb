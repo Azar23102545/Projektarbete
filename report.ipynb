{
 "cells": [
  {
   "cell_type": "code",
   "execution_count": null,
   "id": "25374f38",
   "metadata": {},
   "outputs": [],
   "source": [
    "from src.io_utils import load_data\n",
    "from src.metrics import calculating_revenue_city\n",
    "\n",
    "df = load_data(\"data/ecommerce_sales.csv\")\n",
    "numbers = calculating_revenue_city(df)\n",
    "print(numbers)"
   ]
  },
  {
   "cell_type": "code",
   "execution_count": null,
   "id": "5d1f4b9e",
   "metadata": {},
   "outputs": [],
   "source": [
    "from src.io_utils  import load_data\n",
    "from src.metrics import calculate_average_order_value\n",
    "\n",
    "df = load_data(\"data/ecommerce_sales.csv\")\n",
    "average_order_value, _ = calculate_average_order_value(df)\n",
    "print(average_order_value)\n"
   ]
  }
 ],
 "metadata": {
  "kernelspec": {
   "display_name": "venv",
   "language": "python",
   "name": "python3"
  },
  "language_info": {
   "codemirror_mode": {
    "name": "ipython",
    "version": 3
   },
   "file_extension": ".py",
   "mimetype": "text/x-python",
   "name": "python",
   "nbconvert_exporter": "python",
   "pygments_lexer": "ipython3",
   "version": "3.13.7"
  }
 },
 "nbformat": 4,
 "nbformat_minor": 5
}
