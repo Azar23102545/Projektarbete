{
 "cells": [
  {
   "cell_type": "code",
   "execution_count": null,
   "id": "25374f38",
   "metadata": {},
   "outputs": [],
   "source": [
    "from src.io_utils import load_data\n",
    "from src.metrics import calculating_revenue_city, calculate_category_rev, calculate_average_order_value\n",
    "\n",
    "df = load_data(\"data/ecommerce_sales.csv\")\n"
   ]
  },
  {
   "cell_type": "markdown",
   "id": "03adfab6",
   "metadata": {},
   "source": [
    "# Intäkt per stad"
   ]
  },
  {
   "cell_type": "code",
   "execution_count": null,
   "id": "3145c71c",
   "metadata": {},
   "outputs": [],
   "source": [
    "summary_cities = (df.groupby(\"city\")\n",
    "                    .agg(\n",
    "                        antal_ordrar = (\"city\", \"count\"),\n",
    "                        medelvärde_vinst = (\"revenue\", \"mean\"),\n",
    "                        median_vinst = (\"revenue\", \"median\"),\n",
    "                        std_vinst = (\"revenue\", \"std\")\n",
    "                    ).reset_index())\n",
    "revenue_city = calculating_revenue_city(df)\n",
    "\n",
    "print(\"Summering av städer\")\n",
    "print(summary_cities)\n",
    "print()\n",
    "print(\"Topplista\")\n",
    "print(revenue_city)"
   ]
  },
  {
   "cell_type": "markdown",
   "id": "d29c2b2e",
   "metadata": {},
   "source": [
    "# Intäkt per kategori"
   ]
  },
  {
   "cell_type": "code",
   "execution_count": null,
   "id": "f4c03550",
   "metadata": {},
   "outputs": [],
   "source": [
    "summary_category = (df.groupby(\"category\")\n",
    "                    .agg(\n",
    "                        antal_ordrar = (\"category\", \"count\"),\n",
    "                        medelvärde_vinst = (\"revenue\", \"mean\"),\n",
    "                        median_vinst = (\"revenue\", \"median\"),\n",
    "                        std_vinst = (\"revenue\", \"std\")\n",
    "                    ).reset_index())\n",
    "category_revenue = calculate_category_rev(df)\n",
    "\n",
    "print(\"Summering av kategorierna\")\n",
    "print(summary_category)\n",
    "print()\n",
    "print(\"Topplista\")\n",
    "print(category_revenue)"
   ]
  },
  {
   "cell_type": "markdown",
   "id": "80eae16c",
   "metadata": {},
   "source": [
    "# Average order value"
   ]
  },
  {
   "cell_type": "code",
   "execution_count": null,
   "id": "5d1f4b9e",
   "metadata": {},
   "outputs": [],
   "source": [
    "\n",
    "average_order_value, _ = calculate_average_order_value(df)\n",
    "print(average_order_value)"
   ]
  },
  {
   "cell_type": "markdown",
   "id": "5abfb47e",
   "metadata": {},
   "source": [
    "## visualisering_1\n",
    "Intäkt per kategori\n",
    "\n",
    "funktion: calculate_revenue_by_category"
   ]
  },
  {
   "cell_type": "code",
   "execution_count": null,
   "id": "8eb9d746",
   "metadata": {},
   "outputs": [],
   "source": [
    "\n",
    "from src.viz import plot_revenue_by_category\n",
    "\n",
    "revenue_by_category = calculate_category_rev(df)\n",
    "plot_revenue_by_category(revenue_by_category)\n",
    "\n"
   ]
  },
  {
   "cell_type": "markdown",
   "id": "19d4317c",
   "metadata": {},
   "source": []
  }
 ],
 "metadata": {
  "kernelspec": {
   "display_name": "Python 3",
   "language": "python",
   "name": "python3"
  },
  "language_info": {
   "codemirror_mode": {
    "name": "ipython",
    "version": 3
   },
   "file_extension": ".py",
   "mimetype": "text/x-python",
   "name": "python",
   "nbconvert_exporter": "python",
   "pygments_lexer": "ipython3",
   "version": "3.13.7"
  }
 },
 "nbformat": 4,
 "nbformat_minor": 5
}
