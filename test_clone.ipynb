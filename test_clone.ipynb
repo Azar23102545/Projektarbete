{
 "cells": [
  {
   "cell_type": "markdown",
   "id": "e0d0ef15",
   "metadata": {},
   "source": [
    "Hej från Ali"
   ]
  }
 ],
 "metadata": {
  "language_info": {
   "name": "python"
  }
 },
 "nbformat": 4,
 "nbformat_minor": 5
}
