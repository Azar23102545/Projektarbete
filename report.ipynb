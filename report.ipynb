{
 "cells": [
  {
   "cell_type": "code",
   "execution_count": 1,
   "id": "25374f38",
   "metadata": {},
   "outputs": [
    {
     "name": "stdout",
     "output_type": "stream",
     "text": [
      "        city     revenue\n",
      "0  Stockholm  1227201.94\n",
      "1   Göteborg   859019.65\n",
      "2      Malmö   567926.32\n",
      "3    Uppsala   551478.42\n",
      "4   Västerås   297140.90\n",
      "\n",
      "      category     revenue\n",
      "2  Electronics  1364228.07\n",
      "4       Sports   734653.42\n",
      "1     Clothing   586744.91\n",
      "3         Home   511070.87\n",
      "0       Beauty   163053.97\n",
      "5         Toys   143015.99\n"
     ]
    }
   ],
   "source": [
    "from src.io_utils import load_data\n",
    "from src.metrics import calculating_revenue_city, calculate_category_rev\n",
    "\n",
    "df = load_data(\"data/ecommerce_sales.csv\")\n",
    "numbers = calculating_revenue_city(df)\n",
    "print(numbers)\n",
    "\n",
    "category_revenue = calculate_category_rev(df)\n",
    "print()\n",
    "print(category_revenue)"
   ]
  }
 ],
 "metadata": {
  "kernelspec": {
   "display_name": "Python 3",
   "language": "python",
   "name": "python3"
  },
  "language_info": {
   "codemirror_mode": {
    "name": "ipython",
    "version": 3
   },
   "file_extension": ".py",
   "mimetype": "text/x-python",
   "name": "python",
   "nbconvert_exporter": "python",
   "pygments_lexer": "ipython3",
   "version": "3.13.7"
  }
 },
 "nbformat": 4,
 "nbformat_minor": 5
}
